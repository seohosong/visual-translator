{
 "cells": [
  {
   "cell_type": "code",
   "execution_count": 1,
   "metadata": {},
   "outputs": [],
   "source": [
    "import matplotlib.pyplot as plt\n",
    "import numpy as np\n",
    "from PIL import Image\n",
    "from google.cloud import vision\n",
    "from google.cloud.vision import types\n",
    "from PIL import Image, ImageDraw\n",
    "import io\n",
    "import googletrans\n",
    "import cv2\n",
    "import math"
   ]
  },
  {
   "cell_type": "code",
   "execution_count": 2,
   "metadata": {},
   "outputs": [],
   "source": [
    "translator = googletrans.Translator()"
   ]
  },
  {
   "cell_type": "code",
   "execution_count": 3,
   "metadata": {},
   "outputs": [],
   "source": [
    "ch2img = dict()\n",
    "alphabet = 'abcdefghijklmnopqrstuvwxyz 1234567890!?.,;:*^@#$%&+-=~\\'\"/'\n",
    "path = 'A/'\n",
    "sentence = 'hi everyone!!!'\n",
    "\n",
    "for i in range(1, 58):\n",
    "    ch2img[alphabet[i-1]] = path + '{}.jpg'.format(i)\n",
    "\n",
    "def sen2img(sentences):\n",
    "    print(type(sentences) == str)\n",
    "    if type(sentences) == str:\n",
    "        patch = []\n",
    "        for i in sentences:\n",
    "            patch.append(np.array(Image.open(ch2img[i])))\n",
    "        out = np.concatenate(patch, axis=1)\n",
    "        return out\n",
    "    \n",
    "    else:\n",
    "        patches = []\n",
    "        for sentence in sentences:\n",
    "            patch = []\n",
    "            for i in sentence:\n",
    "                patch.append(np.array(Image.open(ch2img[i])))\n",
    "            out = np.concatenate(patch, axis=1)\n",
    "            patches.append(out)\n",
    "        return patches\n",
    "\n",
    "    #return Image.fromarray(patches[0])patches"
   ]
  },
  {
   "cell_type": "code",
   "execution_count": 4,
   "metadata": {},
   "outputs": [
    {
     "name": "stdout",
     "output_type": "stream",
     "text": [
      "True\n"
     ]
    }
   ],
   "source": [
    "source = sen2img(sentence)"
   ]
  },
  {
   "cell_type": "code",
   "execution_count": 11,
   "metadata": {},
   "outputs": [],
   "source": [
    "open_cv_image = np.array(source) \n",
    "# Convert RGB to BGR \n",
    "open_cv_image = open_cv_image[:, :, ::-1].copy() "
   ]
  },
  {
   "cell_type": "code",
   "execution_count": 6,
   "metadata": {
    "scrolled": true
   },
   "outputs": [
    {
     "data": {
      "text/plain": [
       "<matplotlib.image.AxesImage at 0x207f1425588>"
      ]
     },
     "execution_count": 6,
     "metadata": {},
     "output_type": "execute_result"
    },
    {
     "data": {
      "image/png": "[encoded data removed]",
      "text/plain": [
       "<Figure size 432x288 with 1 Axes>"
      ]
     },
     "metadata": {
      "needs_background": "light"
     },
     "output_type": "display_data"
    }
   ],
   "source": [
    "plt.imshow(source)"
   ]
  },
  {
   "cell_type": "code",
   "execution_count": 15,
   "metadata": {},
   "outputs": [],
   "source": [
    "def get_paragraph(image_file, fileout):\n",
    "    client = vision.ImageAnnotatorClient()\n",
    "\n",
    "    #with io.open(image_file, 'rb') as image_file:\n",
    "    #    content = image_file.read()\n",
    "    content = io.open(image_file, 'rb').read()\n",
    "    image = types.Image(content=content)\n",
    "    response = client.text_detection(image=image)\n",
    "    annotation = response.full_text_annotation\n",
    "    #texts = response.text_annotations\n",
    "        \n",
    "    breaks = vision.enums.TextAnnotation.DetectedBreak.BreakType\n",
    "    paragraphs = []\n",
    "    lines = []\n",
    "\n",
    "    for page in annotation.pages:\n",
    "        for block in page.blocks:\n",
    "            for paragraph in block.paragraphs:\n",
    "                para = \"\"\n",
    "                line = \"\"\n",
    "                for word in paragraph.words:\n",
    "                    for symbol in word.symbols:\n",
    "                        line += symbol.text\n",
    "                        if symbol.property.detected_break.type == breaks.SPACE:\n",
    "                            line += ' '\n",
    "                        if symbol.property.detected_break.type == breaks.EOL_SURE_SPACE:\n",
    "                            line += ' '\n",
    "                            lines.append(line)\n",
    "                            para += line\n",
    "                            line = ''\n",
    "                        if symbol.property.detected_break.type == breaks.LINE_BREAK:\n",
    "                            lines.append(line)\n",
    "                            para += line\n",
    "                            line = ''\n",
    "                paragraphs.append(para)\n",
    "    \n",
    "    bounds = []\n",
    "    for page in annotation.pages:\n",
    "        for block in page.blocks:\n",
    "            for paragraph in block.paragraphs:\n",
    "                #if (feature == 3):\n",
    "                bounds.append(paragraph.bounding_box)\n",
    "                \n",
    "    #Draw box for paragraphs\n",
    "    bound_image = Image.open(image_file)\n",
    "    draw_boxes(bound_image, bounds, 'red')\n",
    "\n",
    "    if fileout is not 0:\n",
    "        bound_image.save(fileout)\n",
    "    else:\n",
    "        bound_image.show()\n",
    "    \n",
    "    bounds_list = []\n",
    "    for bound in bounds:\n",
    "        bounds_list.append([(bound.vertices[0].x, bound.vertices[0].y),\n",
    "        (bound.vertices[1].x, bound.vertices[1].y),\n",
    "        (bound.vertices[2].x, bound.vertices[2].y),\n",
    "        (bound.vertices[3].x, bound.vertices[3].y)])\n",
    "    \n",
    "    print(paragraphs)\n",
    "    #print(lines)\n",
    "    return paragraphs, bounds, bounds_list"
   ]
  },
  {
   "cell_type": "code",
   "execution_count": 7,
   "metadata": {},
   "outputs": [],
   "source": [
    "def get_rotation_angle(vertex):\n",
    "    return math.degrees(math.atan2(vertex[1][0] - vertex[0][0], vertex[1][1] - vertex[0][1])) - 90"
   ]
  },
  {
   "cell_type": "code",
   "execution_count": 10,
   "metadata": {},
   "outputs": [],
   "source": [
    "def rotate_image(mat, angle):\n",
    "    \"\"\"\n",
    "    Rotates an image (angle in degrees) and expands image to avoid cropping\n",
    "    \"\"\"\n",
    "\n",
    "    height, width = mat.shape[:2] # image shape has 3 dimensions\n",
    "    image_center = (width/2, height/2) # getRotationMatrix2D needs coordinates in reverse order (width, height) compared to shape\n",
    "\n",
    "    rotation_mat = cv2.getRotationMatrix2D(image_center, angle, 1.)\n",
    "\n",
    "    # rotation calculates the cos and sin, taking absolutes of those.\n",
    "    abs_cos = abs(rotation_mat[0,0]) \n",
    "    abs_sin = abs(rotation_mat[0,1])\n",
    "\n",
    "    # find the new width and height bounds\n",
    "    bound_w = int(height * abs_sin + width * abs_cos)\n",
    "    bound_h = int(height * abs_cos + width * abs_sin)\n",
    "\n",
    "    # subtract old image center (bringing image back to origo) and adding the new image center coordinates\n",
    "    rotation_mat[0, 2] += bound_w/2 - image_center[0]\n",
    "    rotation_mat[1, 2] += bound_h/2 - image_center[1]\n",
    "\n",
    "    # rotate image with the new bounds and translated rotation matrix\n",
    "    rotated_mat = cv2.warpAffine(mat, rotation_mat, (bound_w, bound_h))\n",
    "    return rotated_mat"
   ]
  },
  {
   "cell_type": "code",
   "execution_count": 12,
   "metadata": {},
   "outputs": [],
   "source": [
    "def box_size(vertex):\n",
    "    vec1 = np.subtract(vertex[1], vertex[0])\n",
    "    vec2 = np.subtract(vertex[2], vertex[0])\n",
    "    vec1_norm = np.linalg.norm(vec1)\n",
    "    vec2_norm = np.linalg.norm(vec2)\n",
    "    size = int(vec1_norm), int(vec2_norm)\n",
    "    return size"
   ]
  },
  {
   "cell_type": "code",
   "execution_count": 13,
   "metadata": {},
   "outputs": [],
   "source": [
    "def paste_box(source, dest, angle, size):\n",
    "    src_im = source\n",
    "    angle = rotation\n",
    "    size = size\n",
    "\n",
    "    #dst_im = Image.new(\"RGBA\", (196,283), \"blue\" )\n",
    "    dst_im = Image.open('spanish.jpg')\n",
    "    im = src_im.convert('RGBA')\n",
    "    rot = im.rotate( angle, expand=1 ).resize(size)\n",
    "    #dst_im.paste( rot, (50, 50), rot )\n",
    "    dst_im.paste(rot, [int(ver) for ver in vertex[0].tolist()], rot)\n",
    "    dst_im.save(\"test.png\")\n",
    "    return dst_im"
   ]
  },
  {
   "cell_type": "code",
   "execution_count": null,
   "metadata": {},
   "outputs": [],
   "source": []
  }
 ],
 "metadata": {
  "kernelspec": {
   "display_name": "Python 3",
   "language": "python",
   "name": "python3"
  },
  "language_info": {
   "codemirror_mode": {
    "name": "ipython",
    "version": 3
   },
   "file_extension": ".py",
   "mimetype": "text/x-python",
   "name": "python",
   "nbconvert_exporter": "python",
   "pygments_lexer": "ipython3",
   "version": "3.6.7"
  }
 },
 "nbformat": 4,
 "nbformat_minor": 2
}
